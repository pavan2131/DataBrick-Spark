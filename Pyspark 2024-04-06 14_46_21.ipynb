{
 "cells": [
  {
   "cell_type": "code",
   "execution_count": 0,
   "metadata": {
    "application/vnd.databricks.v1+cell": {
     "cellMetadata": {
      "byteLimit": 2048000,
      "rowLimit": 10000
     },
     "inputWidgets": {},
     "nuid": "c938780f-2f62-453b-b3af-5558739c0ba4",
     "showTitle": true,
     "title": "Pyspark Basics"
    }
   },
   "outputs": [
    {
     "name": "stdout",
     "output_type": "stream",
     "text": [
      "DataFrame[id: bigint]\n"
     ]
    }
   ],
   "source": [
    "firstDataFrame = spark.range(1000000)\n",
    "print(firstDataFrame)"
   ]
  },
  {
   "cell_type": "code",
   "execution_count": 0,
   "metadata": {
    "application/vnd.databricks.v1+cell": {
     "cellMetadata": {
      "byteLimit": 2048000,
      "rowLimit": 10000
     },
     "inputWidgets": {},
     "nuid": "e2866954-d15d-4ee2-9e3b-382aed2bd90b",
     "showTitle": false,
     "title": ""
    }
   },
   "outputs": [
    {
     "data": {
      "text/html": [
       "<style scoped>\n",
       "  .table-result-container {\n",
       "    max-height: 300px;\n",
       "    overflow: auto;\n",
       "  }\n",
       "  table, th, td {\n",
       "    border: 1px solid black;\n",
       "    border-collapse: collapse;\n",
       "  }\n",
       "  th, td {\n",
       "    padding: 5px;\n",
       "  }\n",
       "  th {\n",
       "    text-align: left;\n",
       "  }\n",
       "</style><div class='table-result-container'><table class='table-result'><thead style='background-color: white'><tr><th>name</th><th>age</th><th>gender</th><th>salary</th></tr></thead><tbody><tr><td>John Doe</td><td>30</td><td>Male</td><td>50000</td></tr><tr><td>Jane Smith</td><td>25</td><td>Female</td><td>45000</td></tr><tr><td>David Johnson</td><td>35</td><td>Male</td><td>60000</td></tr><tr><td>Emily Davis</td><td>28</td><td>Female</td><td>52000</td></tr><tr><td>Michael Wilson</td><td>40</td><td>Male</td><td>75000</td></tr><tr><td>Sarah Brown</td><td>32</td><td>Female</td><td>58000</td></tr><tr><td>Robert Lee</td><td>29</td><td>Male</td><td>51000</td></tr><tr><td>Lisa Garcia</td><td>27</td><td>Female</td><td>49000</td></tr><tr><td>James Martinez</td><td>38</td><td>Male</td><td>70000</td></tr><tr><td>Jennifer Rodriguez</td><td>26</td><td>Female</td><td>47000</td></tr><tr><td>William Anderson</td><td>33</td><td>Male</td><td>62000</td></tr><tr><td>Karen Hernandez</td><td>31</td><td>Female</td><td>55000</td></tr><tr><td>Christopher Taylor</td><td>37</td><td>Male</td><td>69000</td></tr><tr><td>Mary Gonzalez</td><td>24</td><td>Female</td><td>44000</td></tr><tr><td>Matthew Davis</td><td>36</td><td>Male</td><td>67000</td></tr><tr><td>Patricia White</td><td>29</td><td>Female</td><td>50000</td></tr><tr><td>Daniel Miller</td><td>34</td><td>Male</td><td>64000</td></tr><tr><td>Elizabeth Jackson</td><td>30</td><td>Female</td><td>52000</td></tr><tr><td>Joseph Harris</td><td>28</td><td>Male</td><td>53000</td></tr><tr><td>Linda Martin</td><td>39</td><td>Female</td><td>71000</td></tr></tbody></table></div>"
      ]
     },
     "metadata": {
      "application/vnd.databricks.v1+output": {
       "addedWidgets": {},
       "aggData": [],
       "aggError": "",
       "aggOverflow": false,
       "aggSchema": [],
       "aggSeriesLimitReached": false,
       "aggType": "",
       "arguments": {},
       "columnCustomDisplayInfos": {},
       "data": [
        [
         "John Doe",
         30,
         "Male",
         50000
        ],
        [
         "Jane Smith",
         25,
         "Female",
         45000
        ],
        [
         "David Johnson",
         35,
         "Male",
         60000
        ],
        [
         "Emily Davis",
         28,
         "Female",
         52000
        ],
        [
         "Michael Wilson",
         40,
         "Male",
         75000
        ],
        [
         "Sarah Brown",
         32,
         "Female",
         58000
        ],
        [
         "Robert Lee",
         29,
         "Male",
         51000
        ],
        [
         "Lisa Garcia",
         27,
         "Female",
         49000
        ],
        [
         "James Martinez",
         38,
         "Male",
         70000
        ],
        [
         "Jennifer Rodriguez",
         26,
         "Female",
         47000
        ],
        [
         "William Anderson",
         33,
         "Male",
         62000
        ],
        [
         "Karen Hernandez",
         31,
         "Female",
         55000
        ],
        [
         "Christopher Taylor",
         37,
         "Male",
         69000
        ],
        [
         "Mary Gonzalez",
         24,
         "Female",
         44000
        ],
        [
         "Matthew Davis",
         36,
         "Male",
         67000
        ],
        [
         "Patricia White",
         29,
         "Female",
         50000
        ],
        [
         "Daniel Miller",
         34,
         "Male",
         64000
        ],
        [
         "Elizabeth Jackson",
         30,
         "Female",
         52000
        ],
        [
         "Joseph Harris",
         28,
         "Male",
         53000
        ],
        [
         "Linda Martin",
         39,
         "Female",
         71000
        ]
       ],
       "datasetInfos": [],
       "dbfsResultPath": null,
       "isJsonSchema": true,
       "metadata": {},
       "overflow": false,
       "plotOptions": {
        "customPlotOptions": {},
        "displayType": "table",
        "pivotAggregation": null,
        "pivotColumns": null,
        "xColumns": null,
        "yColumns": null
       },
       "removedWidgets": [],
       "schema": [
        {
         "metadata": "{}",
         "name": "name",
         "type": "\"string\""
        },
        {
         "metadata": "{}",
         "name": "age",
         "type": "\"integer\""
        },
        {
         "metadata": "{}",
         "name": "gender",
         "type": "\"string\""
        },
        {
         "metadata": "{}",
         "name": "salary",
         "type": "\"integer\""
        }
       ],
       "type": "table"
      }
     },
     "output_type": "display_data"
    },
    {
     "name": "stdout",
     "output_type": "stream",
     "text": [
      "20\n"
     ]
    }
   ],
   "source": [
    "#Reading DBFS file\n",
    "df=spark.read.format('csv').option('inferSchema',True).option('header',True).option('sep',\",\").load(\"/FileStore/tables/testing/persons-1.csv\")\n",
    "display(df)\n",
    "print(df.count())"
   ]
  },
  {
   "cell_type": "code",
   "execution_count": 0,
   "metadata": {
    "application/vnd.databricks.v1+cell": {
     "cellMetadata": {
      "byteLimit": 2048000,
      "rowLimit": 10000
     },
     "inputWidgets": {},
     "nuid": "05c462f5-4dee-45a2-a338-3524cbb4a7f7",
     "showTitle": false,
     "title": ""
    }
   },
   "outputs": [],
   "source": [
    "#Creating Custom Schema\n",
    "schema=\"name STRING, age INTEGER, gender STRING, salary INTEGER\"\n",
    "person_df=spark.read.format('csv').schema(schema).option('header',True).option('sep',\",\").load(\"/FileStore/tables/testing/persons-1.csv\")"
   ]
  },
  {
   "cell_type": "code",
   "execution_count": 0,
   "metadata": {
    "application/vnd.databricks.v1+cell": {
     "cellMetadata": {
      "byteLimit": 2048000,
      "rowLimit": 10000
     },
     "inputWidgets": {},
     "nuid": "66ef5097-05ce-443c-aa2a-c816b3391ddb",
     "showTitle": false,
     "title": ""
    }
   },
   "outputs": [
    {
     "data": {
      "text/html": [
       "<style scoped>\n",
       "  .table-result-container {\n",
       "    max-height: 300px;\n",
       "    overflow: auto;\n",
       "  }\n",
       "  table, th, td {\n",
       "    border: 1px solid black;\n",
       "    border-collapse: collapse;\n",
       "  }\n",
       "  th, td {\n",
       "    padding: 5px;\n",
       "  }\n",
       "  th {\n",
       "    text-align: left;\n",
       "  }\n",
       "</style><div class='table-result-container'><table class='table-result'><thead style='background-color: white'><tr><th>id</th><th>name</th><th>category</th><th>quantity</th><th>price</th></tr></thead><tbody><tr><td>1</td><td>iPhone 12</td><td>Electronics</td><td>10</td><td>899.99</td></tr><tr><td>2</td><td>Nike Air Max 90</td><td>Clothing</td><td>25</td><td>119.99</td></tr><tr><td>3</td><td>KitchenAid Stand Mixer</td><td>Home Appliances</td><td>5</td><td>299.99</td></tr><tr><td>4</td><td>The Great Gatsby</td><td>Books</td><td>50</td><td>12.99</td></tr><tr><td>5</td><td>L'Oreal Paris Mascara</td><td>Beauty</td><td>100</td><td>9.99</td></tr><tr><td>6</td><td>Yoga Mat</td><td>Sports</td><td>30</td><td>29.99</td></tr><tr><td>7</td><td>Samsung 4K Smart TV</td><td>Electronics</td><td>8</td><td>799.99</td></tr><tr><td>8</td><td>Levi's Jeans</td><td>Clothing</td><td>15</td><td>49.99</td></tr><tr><td>9</td><td>Dyson Vacuum Cleaner</td><td>Home Appliances</td><td>3</td><td>399.99</td></tr><tr><td>10</td><td>Harry Potter Series</td><td>Books</td><td>20</td><td>15.99</td></tr><tr><td>11</td><td>MAC Lipstick</td><td>Beauty</td><td>75</td><td>16.99</td></tr><tr><td>12</td><td>Adidas Running Shoes</td><td>Sports</td><td>22</td><td>59.99</td></tr><tr><td>13</td><td>PlayStation 5</td><td>Electronics</td><td>12</td><td>499.99</td></tr><tr><td>14</td><td>Hooded Sweatshirt</td><td>Clothing</td><td>10</td><td>34.99</td></tr><tr><td>15</td><td>Coffee Maker</td><td>Home Appliances</td><td>7</td><td>89.99</td></tr><tr><td>16</td><td>To Kill a Mockingbird</td><td>Books</td><td>15</td><td>9.99</td></tr><tr><td>17</td><td>Skincare Set</td><td>Beauty</td><td>50</td><td>49.99</td></tr><tr><td>18</td><td>Yoga Ball</td><td>Sports</td><td>18</td><td>19.99</td></tr><tr><td>19</td><td>Sony Noise-Canceling Headphones</td><td>Electronics</td><td>6</td><td>299.99</td></tr><tr><td>20</td><td>Puma T-shirt</td><td>Clothing</td><td>40</td><td>19.99</td></tr><tr><td>John Doe</td><td>30</td><td>Male</td><td>50000</td><td>null</td></tr><tr><td>Jane Smith</td><td>25</td><td>Female</td><td>45000</td><td>null</td></tr><tr><td>David Johnson</td><td>35</td><td>Male</td><td>60000</td><td>null</td></tr><tr><td>Emily Davis</td><td>28</td><td>Female</td><td>52000</td><td>null</td></tr><tr><td>Michael Wilson</td><td>40</td><td>Male</td><td>75000</td><td>null</td></tr><tr><td>Sarah Brown</td><td>32</td><td>Female</td><td>58000</td><td>null</td></tr><tr><td>Robert Lee</td><td>29</td><td>Male</td><td>51000</td><td>null</td></tr><tr><td>Lisa Garcia</td><td>27</td><td>Female</td><td>49000</td><td>null</td></tr><tr><td>James Martinez</td><td>38</td><td>Male</td><td>70000</td><td>null</td></tr><tr><td>Jennifer Rodriguez</td><td>26</td><td>Female</td><td>47000</td><td>null</td></tr><tr><td>William Anderson</td><td>33</td><td>Male</td><td>62000</td><td>null</td></tr><tr><td>Karen Hernandez</td><td>31</td><td>Female</td><td>55000</td><td>null</td></tr><tr><td>Christopher Taylor</td><td>37</td><td>Male</td><td>69000</td><td>null</td></tr><tr><td>Mary Gonzalez</td><td>24</td><td>Female</td><td>44000</td><td>null</td></tr><tr><td>Matthew Davis</td><td>36</td><td>Male</td><td>67000</td><td>null</td></tr><tr><td>Patricia White</td><td>29</td><td>Female</td><td>50000</td><td>null</td></tr><tr><td>Daniel Miller</td><td>34</td><td>Male</td><td>64000</td><td>null</td></tr><tr><td>Elizabeth Jackson</td><td>30</td><td>Female</td><td>52000</td><td>null</td></tr><tr><td>Joseph Harris</td><td>28</td><td>Male</td><td>53000</td><td>null</td></tr><tr><td>Linda Martin</td><td>39</td><td>Female</td><td>71000</td><td>null</td></tr></tbody></table></div>"
      ]
     },
     "metadata": {
      "application/vnd.databricks.v1+output": {
       "addedWidgets": {},
       "aggData": [],
       "aggError": "",
       "aggOverflow": false,
       "aggSchema": [],
       "aggSeriesLimitReached": false,
       "aggType": "",
       "arguments": {},
       "columnCustomDisplayInfos": {},
       "data": [
        [
         "1",
         "iPhone 12",
         "Electronics",
         "10",
         899.99
        ],
        [
         "2",
         "Nike Air Max 90",
         "Clothing",
         "25",
         119.99
        ],
        [
         "3",
         "KitchenAid Stand Mixer",
         "Home Appliances",
         "5",
         299.99
        ],
        [
         "4",
         "The Great Gatsby",
         "Books",
         "50",
         12.99
        ],
        [
         "5",
         "L'Oreal Paris Mascara",
         "Beauty",
         "100",
         9.99
        ],
        [
         "6",
         "Yoga Mat",
         "Sports",
         "30",
         29.99
        ],
        [
         "7",
         "Samsung 4K Smart TV",
         "Electronics",
         "8",
         799.99
        ],
        [
         "8",
         "Levi's Jeans",
         "Clothing",
         "15",
         49.99
        ],
        [
         "9",
         "Dyson Vacuum Cleaner",
         "Home Appliances",
         "3",
         399.99
        ],
        [
         "10",
         "Harry Potter Series",
         "Books",
         "20",
         15.99
        ],
        [
         "11",
         "MAC Lipstick",
         "Beauty",
         "75",
         16.99
        ],
        [
         "12",
         "Adidas Running Shoes",
         "Sports",
         "22",
         59.99
        ],
        [
         "13",
         "PlayStation 5",
         "Electronics",
         "12",
         499.99
        ],
        [
         "14",
         "Hooded Sweatshirt",
         "Clothing",
         "10",
         34.99
        ],
        [
         "15",
         "Coffee Maker",
         "Home Appliances",
         "7",
         89.99
        ],
        [
         "16",
         "To Kill a Mockingbird",
         "Books",
         "15",
         9.99
        ],
        [
         "17",
         "Skincare Set",
         "Beauty",
         "50",
         49.99
        ],
        [
         "18",
         "Yoga Ball",
         "Sports",
         "18",
         19.99
        ],
        [
         "19",
         "Sony Noise-Canceling Headphones",
         "Electronics",
         "6",
         299.99
        ],
        [
         "20",
         "Puma T-shirt",
         "Clothing",
         "40",
         19.99
        ],
        [
         "John Doe",
         "30",
         "Male",
         "50000",
         null
        ],
        [
         "Jane Smith",
         "25",
         "Female",
         "45000",
         null
        ],
        [
         "David Johnson",
         "35",
         "Male",
         "60000",
         null
        ],
        [
         "Emily Davis",
         "28",
         "Female",
         "52000",
         null
        ],
        [
         "Michael Wilson",
         "40",
         "Male",
         "75000",
         null
        ],
        [
         "Sarah Brown",
         "32",
         "Female",
         "58000",
         null
        ],
        [
         "Robert Lee",
         "29",
         "Male",
         "51000",
         null
        ],
        [
         "Lisa Garcia",
         "27",
         "Female",
         "49000",
         null
        ],
        [
         "James Martinez",
         "38",
         "Male",
         "70000",
         null
        ],
        [
         "Jennifer Rodriguez",
         "26",
         "Female",
         "47000",
         null
        ],
        [
         "William Anderson",
         "33",
         "Male",
         "62000",
         null
        ],
        [
         "Karen Hernandez",
         "31",
         "Female",
         "55000",
         null
        ],
        [
         "Christopher Taylor",
         "37",
         "Male",
         "69000",
         null
        ],
        [
         "Mary Gonzalez",
         "24",
         "Female",
         "44000",
         null
        ],
        [
         "Matthew Davis",
         "36",
         "Male",
         "67000",
         null
        ],
        [
         "Patricia White",
         "29",
         "Female",
         "50000",
         null
        ],
        [
         "Daniel Miller",
         "34",
         "Male",
         "64000",
         null
        ],
        [
         "Elizabeth Jackson",
         "30",
         "Female",
         "52000",
         null
        ],
        [
         "Joseph Harris",
         "28",
         "Male",
         "53000",
         null
        ],
        [
         "Linda Martin",
         "39",
         "Female",
         "71000",
         null
        ]
       ],
       "datasetInfos": [],
       "dbfsResultPath": null,
       "isJsonSchema": true,
       "metadata": {},
       "overflow": false,
       "plotOptions": {
        "customPlotOptions": {},
        "displayType": "table",
        "pivotAggregation": null,
        "pivotColumns": null,
        "xColumns": null,
        "yColumns": null
       },
       "removedWidgets": [],
       "schema": [
        {
         "metadata": "{}",
         "name": "id",
         "type": "\"string\""
        },
        {
         "metadata": "{}",
         "name": "name",
         "type": "\"string\""
        },
        {
         "metadata": "{}",
         "name": "category",
         "type": "\"string\""
        },
        {
         "metadata": "{}",
         "name": "quantity",
         "type": "\"string\""
        },
        {
         "metadata": "{}",
         "name": "price",
         "type": "\"double\""
        }
       ],
       "type": "table"
      }
     },
     "output_type": "display_data"
    }
   ],
   "source": [
    "#Reading Multiple files\n",
    "\n",
    "multifile_df=spark.read.format('csv').option('inferSchema',True).option('header',True).option('sep',\",\").load([\"/FileStore/tables/testing/persons-1.csv\",\"/FileStore/tables/testing/products.csv\"])\n",
    "display(multifile_df)"
   ]
  },
  {
   "cell_type": "code",
   "execution_count": 0,
   "metadata": {
    "application/vnd.databricks.v1+cell": {
     "cellMetadata": {
      "byteLimit": 2048000,
      "rowLimit": 10000
     },
     "inputWidgets": {},
     "nuid": "86955d70-451b-47dd-8bab-61f071e10fa9",
     "showTitle": false,
     "title": ""
    }
   },
   "outputs": [],
   "source": [
    "#Creating Alternate type of Schema\n",
    "from pyspark.sql.types import StructType,StructField,StringType,IntegerType\n",
    "\n",
    "schema_design=  StructType([\n",
    "    StructField(\"name\", StringType(), True),\n",
    "    StructField(\"age\", IntegerType(), True),\n",
    "    StructField(\"gender\", StringType(), True),\n",
    "    StructField(\"salary\", IntegerType(), True)\n",
    "])"
   ]
  },
  {
   "cell_type": "code",
   "execution_count": 0,
   "metadata": {
    "application/vnd.databricks.v1+cell": {
     "cellMetadata": {
      "byteLimit": 2048000,
      "rowLimit": 10000
     },
     "inputWidgets": {},
     "nuid": "ae83c47f-804f-4aaf-a9bc-abc3abbf5b20",
     "showTitle": true,
     "title": "FILTERS"
    }
   },
   "outputs": [],
   "source": [
    "#Filters"
   ]
  },
  {
   "cell_type": "code",
   "execution_count": 0,
   "metadata": {
    "application/vnd.databricks.v1+cell": {
     "cellMetadata": {
      "byteLimit": 2048000,
      "rowLimit": 10000
     },
     "inputWidgets": {},
     "nuid": "4e359096-a9d4-47f9-8b3e-8ccd986137e3",
     "showTitle": false,
     "title": ""
    }
   },
   "outputs": [
    {
     "data": {
      "text/html": [
       "<style scoped>\n",
       "  .table-result-container {\n",
       "    max-height: 300px;\n",
       "    overflow: auto;\n",
       "  }\n",
       "  table, th, td {\n",
       "    border: 1px solid black;\n",
       "    border-collapse: collapse;\n",
       "  }\n",
       "  th, td {\n",
       "    padding: 5px;\n",
       "  }\n",
       "  th {\n",
       "    text-align: left;\n",
       "  }\n",
       "</style><div class='table-result-container'><table class='table-result'><thead style='background-color: white'><tr><th>name</th><th>age</th><th>gender</th><th>salary</th></tr></thead><tbody><tr><td>David Johnson</td><td>35</td><td>Male</td><td>60000</td></tr><tr><td>Emily Davis</td><td>28</td><td>Female</td><td>52000</td></tr><tr><td>Michael Wilson</td><td>40</td><td>Male</td><td>75000</td></tr><tr><td>Sarah Brown</td><td>32</td><td>Female</td><td>58000</td></tr><tr><td>Robert Lee</td><td>29</td><td>Male</td><td>51000</td></tr><tr><td>James Martinez</td><td>38</td><td>Male</td><td>70000</td></tr><tr><td>William Anderson</td><td>33</td><td>Male</td><td>62000</td></tr><tr><td>Karen Hernandez</td><td>31</td><td>Female</td><td>55000</td></tr><tr><td>Christopher Taylor</td><td>37</td><td>Male</td><td>69000</td></tr><tr><td>Matthew Davis</td><td>36</td><td>Male</td><td>67000</td></tr><tr><td>Daniel Miller</td><td>34</td><td>Male</td><td>64000</td></tr><tr><td>Elizabeth Jackson</td><td>30</td><td>Female</td><td>52000</td></tr><tr><td>Joseph Harris</td><td>28</td><td>Male</td><td>53000</td></tr><tr><td>Linda Martin</td><td>39</td><td>Female</td><td>71000</td></tr></tbody></table></div>"
      ]
     },
     "metadata": {
      "application/vnd.databricks.v1+output": {
       "addedWidgets": {},
       "aggData": [],
       "aggError": "",
       "aggOverflow": false,
       "aggSchema": [],
       "aggSeriesLimitReached": false,
       "aggType": "",
       "arguments": {},
       "columnCustomDisplayInfos": {},
       "data": [
        [
         "David Johnson",
         35,
         "Male",
         60000
        ],
        [
         "Emily Davis",
         28,
         "Female",
         52000
        ],
        [
         "Michael Wilson",
         40,
         "Male",
         75000
        ],
        [
         "Sarah Brown",
         32,
         "Female",
         58000
        ],
        [
         "Robert Lee",
         29,
         "Male",
         51000
        ],
        [
         "James Martinez",
         38,
         "Male",
         70000
        ],
        [
         "William Anderson",
         33,
         "Male",
         62000
        ],
        [
         "Karen Hernandez",
         31,
         "Female",
         55000
        ],
        [
         "Christopher Taylor",
         37,
         "Male",
         69000
        ],
        [
         "Matthew Davis",
         36,
         "Male",
         67000
        ],
        [
         "Daniel Miller",
         34,
         "Male",
         64000
        ],
        [
         "Elizabeth Jackson",
         30,
         "Female",
         52000
        ],
        [
         "Joseph Harris",
         28,
         "Male",
         53000
        ],
        [
         "Linda Martin",
         39,
         "Female",
         71000
        ]
       ],
       "datasetInfos": [],
       "dbfsResultPath": null,
       "isJsonSchema": true,
       "metadata": {},
       "overflow": false,
       "plotOptions": {
        "customPlotOptions": {},
        "displayType": "table",
        "pivotAggregation": null,
        "pivotColumns": null,
        "xColumns": null,
        "yColumns": null
       },
       "removedWidgets": [],
       "schema": [
        {
         "metadata": "{}",
         "name": "name",
         "type": "\"string\""
        },
        {
         "metadata": "{}",
         "name": "age",
         "type": "\"integer\""
        },
        {
         "metadata": "{}",
         "name": "gender",
         "type": "\"string\""
        },
        {
         "metadata": "{}",
         "name": "salary",
         "type": "\"integer\""
        }
       ],
       "type": "table"
      }
     },
     "output_type": "display_data"
    }
   ],
   "source": [
    "display(person_df.filter(person_df.salary>50000))"
   ]
  },
  {
   "cell_type": "code",
   "execution_count": 0,
   "metadata": {
    "application/vnd.databricks.v1+cell": {
     "cellMetadata": {
      "byteLimit": 2048000,
      "rowLimit": 10000
     },
     "inputWidgets": {},
     "nuid": "57f2fa53-894b-4dea-9f3f-a0158b57b59d",
     "showTitle": false,
     "title": ""
    }
   },
   "outputs": [
    {
     "data": {
      "text/html": [
       "<style scoped>\n",
       "  .table-result-container {\n",
       "    max-height: 300px;\n",
       "    overflow: auto;\n",
       "  }\n",
       "  table, th, td {\n",
       "    border: 1px solid black;\n",
       "    border-collapse: collapse;\n",
       "  }\n",
       "  th, td {\n",
       "    padding: 5px;\n",
       "  }\n",
       "  th {\n",
       "    text-align: left;\n",
       "  }\n",
       "</style><div class='table-result-container'><table class='table-result'><thead style='background-color: white'><tr><th>name</th><th>age</th><th>gender</th><th>salary</th></tr></thead><tbody><tr><td>Emily Davis</td><td>28</td><td>Female</td><td>52000</td></tr><tr><td>Sarah Brown</td><td>32</td><td>Female</td><td>58000</td></tr><tr><td>Robert Lee</td><td>29</td><td>Male</td><td>51000</td></tr><tr><td>Karen Hernandez</td><td>31</td><td>Female</td><td>55000</td></tr><tr><td>Elizabeth Jackson</td><td>30</td><td>Female</td><td>52000</td></tr><tr><td>Joseph Harris</td><td>28</td><td>Male</td><td>53000</td></tr></tbody></table></div>"
      ]
     },
     "metadata": {
      "application/vnd.databricks.v1+output": {
       "addedWidgets": {},
       "aggData": [],
       "aggError": "",
       "aggOverflow": false,
       "aggSchema": [],
       "aggSeriesLimitReached": false,
       "aggType": "",
       "arguments": {},
       "columnCustomDisplayInfos": {},
       "data": [
        [
         "Emily Davis",
         28,
         "Female",
         52000
        ],
        [
         "Sarah Brown",
         32,
         "Female",
         58000
        ],
        [
         "Robert Lee",
         29,
         "Male",
         51000
        ],
        [
         "Karen Hernandez",
         31,
         "Female",
         55000
        ],
        [
         "Elizabeth Jackson",
         30,
         "Female",
         52000
        ],
        [
         "Joseph Harris",
         28,
         "Male",
         53000
        ]
       ],
       "datasetInfos": [],
       "dbfsResultPath": null,
       "isJsonSchema": true,
       "metadata": {},
       "overflow": false,
       "plotOptions": {
        "customPlotOptions": {},
        "displayType": "table",
        "pivotAggregation": null,
        "pivotColumns": null,
        "xColumns": null,
        "yColumns": null
       },
       "removedWidgets": [],
       "schema": [
        {
         "metadata": "{}",
         "name": "name",
         "type": "\"string\""
        },
        {
         "metadata": "{}",
         "name": "age",
         "type": "\"integer\""
        },
        {
         "metadata": "{}",
         "name": "gender",
         "type": "\"string\""
        },
        {
         "metadata": "{}",
         "name": "salary",
         "type": "\"integer\""
        }
       ],
       "type": "table"
      }
     },
     "output_type": "display_data"
    }
   ],
   "source": [
    "display(person_df.filter((person_df.salary>50000)&(person_df.salary<60000)))"
   ]
  },
  {
   "cell_type": "code",
   "execution_count": 0,
   "metadata": {
    "application/vnd.databricks.v1+cell": {
     "cellMetadata": {
      "byteLimit": 2048000,
      "rowLimit": 10000
     },
     "inputWidgets": {},
     "nuid": "211cbc76-ee2d-40b9-8d79-04b524758e94",
     "showTitle": false,
     "title": ""
    }
   },
   "outputs": [
    {
     "data": {
      "text/html": [
       "<style scoped>\n",
       "  .table-result-container {\n",
       "    max-height: 300px;\n",
       "    overflow: auto;\n",
       "  }\n",
       "  table, th, td {\n",
       "    border: 1px solid black;\n",
       "    border-collapse: collapse;\n",
       "  }\n",
       "  th, td {\n",
       "    padding: 5px;\n",
       "  }\n",
       "  th {\n",
       "    text-align: left;\n",
       "  }\n",
       "</style><div class='table-result-container'><table class='table-result'><thead style='background-color: white'><tr><th>name</th><th>age</th><th>gender</th><th>salary</th></tr></thead><tbody><tr><td>Karen Hernandez</td><td>31</td><td>Female</td><td>55000</td></tr></tbody></table></div>"
      ]
     },
     "metadata": {
      "application/vnd.databricks.v1+output": {
       "addedWidgets": {},
       "aggData": [],
       "aggError": "",
       "aggOverflow": false,
       "aggSchema": [],
       "aggSeriesLimitReached": false,
       "aggType": "",
       "arguments": {},
       "columnCustomDisplayInfos": {},
       "data": [
        [
         "Karen Hernandez",
         31,
         "Female",
         55000
        ]
       ],
       "datasetInfos": [],
       "dbfsResultPath": null,
       "isJsonSchema": true,
       "metadata": {},
       "overflow": false,
       "plotOptions": {
        "customPlotOptions": {},
        "displayType": "table",
        "pivotAggregation": null,
        "pivotColumns": null,
        "xColumns": null,
        "yColumns": null
       },
       "removedWidgets": [],
       "schema": [
        {
         "metadata": "{}",
         "name": "name",
         "type": "\"string\""
        },
        {
         "metadata": "{}",
         "name": "age",
         "type": "\"integer\""
        },
        {
         "metadata": "{}",
         "name": "gender",
         "type": "\"string\""
        },
        {
         "metadata": "{}",
         "name": "salary",
         "type": "\"integer\""
        }
       ],
       "type": "table"
      }
     },
     "output_type": "display_data"
    }
   ],
   "source": [
    "# display(person_df.filter((person_df.name.endswith(\"h\"))))\n",
    "# display(person_df.filter((person_df.name.startswith(\"J\"))))\n",
    "display(person_df.filter((person_df.name.contains(\"K\"))))"
   ]
  },
  {
   "cell_type": "code",
   "execution_count": 0,
   "metadata": {
    "application/vnd.databricks.v1+cell": {
     "cellMetadata": {
      "byteLimit": 2048000,
      "rowLimit": 10000
     },
     "inputWidgets": {},
     "nuid": "3149c4ef-6a43-44cc-b8d9-1efea2eb1ddd",
     "showTitle": false,
     "title": ""
    }
   },
   "outputs": [
    {
     "data": {
      "text/html": [
       "<style scoped>\n",
       "  .table-result-container {\n",
       "    max-height: 300px;\n",
       "    overflow: auto;\n",
       "  }\n",
       "  table, th, td {\n",
       "    border: 1px solid black;\n",
       "    border-collapse: collapse;\n",
       "  }\n",
       "  th, td {\n",
       "    padding: 5px;\n",
       "  }\n",
       "  th {\n",
       "    text-align: left;\n",
       "  }\n",
       "</style><div class='table-result-container'><table class='table-result'><thead style='background-color: white'><tr><th>name</th><th>age</th><th>gender</th><th>salary</th></tr></thead><tbody><tr><td>Jane Smith</td><td>25</td><td>Female</td><td>45000</td></tr></tbody></table></div>"
      ]
     },
     "metadata": {
      "application/vnd.databricks.v1+output": {
       "addedWidgets": {},
       "aggData": [],
       "aggError": "",
       "aggOverflow": false,
       "aggSchema": [],
       "aggSeriesLimitReached": false,
       "aggType": "",
       "arguments": {},
       "columnCustomDisplayInfos": {},
       "data": [
        [
         "Jane Smith",
         25,
         "Female",
         45000
        ]
       ],
       "datasetInfos": [],
       "dbfsResultPath": null,
       "isJsonSchema": true,
       "metadata": {},
       "overflow": false,
       "plotOptions": {
        "customPlotOptions": {},
        "displayType": "table",
        "pivotAggregation": null,
        "pivotColumns": null,
        "xColumns": null,
        "yColumns": null
       },
       "removedWidgets": [],
       "schema": [
        {
         "metadata": "{}",
         "name": "name",
         "type": "\"string\""
        },
        {
         "metadata": "{}",
         "name": "age",
         "type": "\"integer\""
        },
        {
         "metadata": "{}",
         "name": "gender",
         "type": "\"string\""
        },
        {
         "metadata": "{}",
         "name": "salary",
         "type": "\"integer\""
        }
       ],
       "type": "table"
      }
     },
     "output_type": "display_data"
    }
   ],
   "source": [
    "# display(person_df.filter((person_df.name.like(\"%Smith\"))))\n",
    "# display(person_df.filter((person_df.name.like(\"Smith%\"))))\n",
    "display(person_df.filter((person_df.name.like(\"%Smith%\"))))"
   ]
  },
  {
   "cell_type": "code",
   "execution_count": 0,
   "metadata": {
    "application/vnd.databricks.v1+cell": {
     "cellMetadata": {
      "byteLimit": 2048000,
      "rowLimit": 10000
     },
     "inputWidgets": {},
     "nuid": "b616f45f-0a72-4185-ac9c-43183829510b",
     "showTitle": false,
     "title": ""
    }
   },
   "outputs": [
    {
     "data": {
      "text/html": [
       "<style scoped>\n",
       "  .table-result-container {\n",
       "    max-height: 300px;\n",
       "    overflow: auto;\n",
       "  }\n",
       "  table, th, td {\n",
       "    border: 1px solid black;\n",
       "    border-collapse: collapse;\n",
       "  }\n",
       "  th, td {\n",
       "    padding: 5px;\n",
       "  }\n",
       "  th {\n",
       "    text-align: left;\n",
       "  }\n",
       "</style><div class='table-result-container'><table class='table-result'><thead style='background-color: white'><tr><th>name</th><th>age</th><th>gender</th><th>salary</th></tr></thead><tbody><tr><td>John Doe</td><td>30</td><td>Male</td><td>50000</td></tr><tr><td>Jane Smith</td><td>25</td><td>Female</td><td>45000</td></tr><tr><td>Patricia White</td><td>29</td><td>Female</td><td>50000</td></tr></tbody></table></div>"
      ]
     },
     "metadata": {
      "application/vnd.databricks.v1+output": {
       "addedWidgets": {},
       "aggData": [],
       "aggError": "",
       "aggOverflow": false,
       "aggSchema": [],
       "aggSeriesLimitReached": false,
       "aggType": "",
       "arguments": {},
       "columnCustomDisplayInfos": {},
       "data": [
        [
         "John Doe",
         30,
         "Male",
         50000
        ],
        [
         "Jane Smith",
         25,
         "Female",
         45000
        ],
        [
         "Patricia White",
         29,
         "Female",
         50000
        ]
       ],
       "datasetInfos": [],
       "dbfsResultPath": null,
       "isJsonSchema": true,
       "metadata": {},
       "overflow": false,
       "plotOptions": {
        "customPlotOptions": {},
        "displayType": "table",
        "pivotAggregation": null,
        "pivotColumns": null,
        "xColumns": null,
        "yColumns": null
       },
       "removedWidgets": [],
       "schema": [
        {
         "metadata": "{}",
         "name": "name",
         "type": "\"string\""
        },
        {
         "metadata": "{}",
         "name": "age",
         "type": "\"integer\""
        },
        {
         "metadata": "{}",
         "name": "gender",
         "type": "\"string\""
        },
        {
         "metadata": "{}",
         "name": "salary",
         "type": "\"integer\""
        }
       ],
       "type": "table"
      }
     },
     "output_type": "display_data"
    }
   ],
   "source": [
    "display(person_df.filter((person_df.salary.isin(45000,50000))))"
   ]
  },
  {
   "cell_type": "code",
   "execution_count": 0,
   "metadata": {
    "application/vnd.databricks.v1+cell": {
     "cellMetadata": {
      "byteLimit": 2048000,
      "rowLimit": 10000
     },
     "inputWidgets": {},
     "nuid": "d59b08aa-bfed-41d7-957f-b775ee060bfc",
     "showTitle": false,
     "title": ""
    }
   },
   "outputs": [],
   "source": []
  }
 ],
 "metadata": {
  "application/vnd.databricks.v1+notebook": {
   "dashboards": [],
   "language": "python",
   "notebookMetadata": {
    "pythonIndentUnit": 4
   },
   "notebookName": "Pyspark 2024-04-06 14:46:21",
   "widgets": {}
  },
  "kernelspec": {
   "display_name": "Python 3 (ipykernel)",
   "language": "python",
   "name": "python3"
  },
  "language_info": {
   "codemirror_mode": {
    "name": "ipython",
    "version": 3
   },
   "file_extension": ".py",
   "mimetype": "text/x-python",
   "name": "python",
   "nbconvert_exporter": "python",
   "pygments_lexer": "ipython3",
   "version": "3.11.3"
  }
 },
 "nbformat": 4,
 "nbformat_minor": 1
}
