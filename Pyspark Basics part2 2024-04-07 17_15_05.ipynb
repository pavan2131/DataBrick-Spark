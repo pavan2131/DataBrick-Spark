{
 "cells": [
  {
   "cell_type": "code",
   "execution_count": 0,
   "metadata": {
    "application/vnd.databricks.v1+cell": {
     "cellMetadata": {
      "byteLimit": 2048000,
      "rowLimit": 10000
     },
     "inputWidgets": {},
     "nuid": "13f1e8b0-b74d-48ba-8b2b-f6e341236393",
     "showTitle": true,
     "title": "DF"
    }
   },
   "outputs": [
    {
     "data": {
      "text/html": [
       "<style scoped>\n",
       "  .table-result-container {\n",
       "    max-height: 300px;\n",
       "    overflow: auto;\n",
       "  }\n",
       "  table, th, td {\n",
       "    border: 1px solid black;\n",
       "    border-collapse: collapse;\n",
       "  }\n",
       "  th, td {\n",
       "    padding: 5px;\n",
       "  }\n",
       "  th {\n",
       "    text-align: left;\n",
       "  }\n",
       "</style><div class='table-result-container'><table class='table-result'><thead style='background-color: white'><tr><th>name</th><th>age</th><th>gender</th><th>salary</th></tr></thead><tbody><tr><td>John Doe</td><td>30</td><td>Male</td><td>50000</td></tr><tr><td>Jane Smith</td><td>25</td><td>Female</td><td>45000</td></tr><tr><td>David Johnson</td><td>35</td><td>Male</td><td>60000</td></tr><tr><td>Emily Davis</td><td>28</td><td>Female</td><td>52000</td></tr><tr><td>Michael Wilson</td><td>40</td><td>Male</td><td>75000</td></tr><tr><td>Sarah Brown</td><td>32</td><td>Female</td><td>58000</td></tr><tr><td>Robert Lee</td><td>29</td><td>Male</td><td>51000</td></tr><tr><td>Lisa Garcia</td><td>27</td><td>Female</td><td>49000</td></tr><tr><td>James Martinez</td><td>38</td><td>Male</td><td>70000</td></tr><tr><td>Jennifer Rodriguez</td><td>26</td><td>Female</td><td>47000</td></tr><tr><td>William Anderson</td><td>33</td><td>Male</td><td>62000</td></tr><tr><td>Karen Hernandez</td><td>31</td><td>Female</td><td>55000</td></tr><tr><td>Christopher Taylor</td><td>37</td><td>Male</td><td>69000</td></tr><tr><td>Mary Gonzalez</td><td>24</td><td>Female</td><td>44000</td></tr><tr><td>Matthew Davis</td><td>36</td><td>Male</td><td>67000</td></tr><tr><td>Patricia White</td><td>29</td><td>Female</td><td>50000</td></tr><tr><td>Daniel Miller</td><td>34</td><td>Male</td><td>64000</td></tr><tr><td>Elizabeth Jackson</td><td>30</td><td>Female</td><td>52000</td></tr><tr><td>Joseph Harris</td><td>28</td><td>Male</td><td>53000</td></tr><tr><td>Linda Martin</td><td>39</td><td>Female</td><td>71000</td></tr></tbody></table></div>"
      ]
     },
     "metadata": {
      "application/vnd.databricks.v1+output": {
       "addedWidgets": {},
       "aggData": [],
       "aggError": "",
       "aggOverflow": false,
       "aggSchema": [],
       "aggSeriesLimitReached": false,
       "aggType": "",
       "arguments": {},
       "columnCustomDisplayInfos": {},
       "data": [
        [
         "John Doe",
         30,
         "Male",
         50000
        ],
        [
         "Jane Smith",
         25,
         "Female",
         45000
        ],
        [
         "David Johnson",
         35,
         "Male",
         60000
        ],
        [
         "Emily Davis",
         28,
         "Female",
         52000
        ],
        [
         "Michael Wilson",
         40,
         "Male",
         75000
        ],
        [
         "Sarah Brown",
         32,
         "Female",
         58000
        ],
        [
         "Robert Lee",
         29,
         "Male",
         51000
        ],
        [
         "Lisa Garcia",
         27,
         "Female",
         49000
        ],
        [
         "James Martinez",
         38,
         "Male",
         70000
        ],
        [
         "Jennifer Rodriguez",
         26,
         "Female",
         47000
        ],
        [
         "William Anderson",
         33,
         "Male",
         62000
        ],
        [
         "Karen Hernandez",
         31,
         "Female",
         55000
        ],
        [
         "Christopher Taylor",
         37,
         "Male",
         69000
        ],
        [
         "Mary Gonzalez",
         24,
         "Female",
         44000
        ],
        [
         "Matthew Davis",
         36,
         "Male",
         67000
        ],
        [
         "Patricia White",
         29,
         "Female",
         50000
        ],
        [
         "Daniel Miller",
         34,
         "Male",
         64000
        ],
        [
         "Elizabeth Jackson",
         30,
         "Female",
         52000
        ],
        [
         "Joseph Harris",
         28,
         "Male",
         53000
        ],
        [
         "Linda Martin",
         39,
         "Female",
         71000
        ]
       ],
       "datasetInfos": [],
       "dbfsResultPath": null,
       "isJsonSchema": true,
       "metadata": {},
       "overflow": false,
       "plotOptions": {
        "customPlotOptions": {},
        "displayType": "table",
        "pivotAggregation": null,
        "pivotColumns": null,
        "xColumns": null,
        "yColumns": null
       },
       "removedWidgets": [],
       "schema": [
        {
         "metadata": "{}",
         "name": "name",
         "type": "\"string\""
        },
        {
         "metadata": "{}",
         "name": "age",
         "type": "\"integer\""
        },
        {
         "metadata": "{}",
         "name": "gender",
         "type": "\"string\""
        },
        {
         "metadata": "{}",
         "name": "salary",
         "type": "\"integer\""
        }
       ],
       "type": "table"
      }
     },
     "output_type": "display_data"
    },
    {
     "name": "stdout",
     "output_type": "stream",
     "text": [
      "20\n"
     ]
    }
   ],
   "source": [
    "#Reading DBFS file\n",
    "df=spark.read.format('csv').option('inferSchema',True).option('header',True).option('sep',\",\").load(\"/FileStore/tables/testing/persons-1.csv\")\n",
    "display(df)\n",
    "print(df.count())"
   ]
  },
  {
   "cell_type": "code",
   "execution_count": 0,
   "metadata": {
    "application/vnd.databricks.v1+cell": {
     "cellMetadata": {
      "byteLimit": 2048000,
      "rowLimit": 10000
     },
     "inputWidgets": {},
     "nuid": "a1f79278-292f-4134-a6e4-ba07d8d17557",
     "showTitle": true,
     "title": "Sorting"
    }
   },
   "outputs": [
    {
     "name": "stdout",
     "output_type": "stream",
     "text": [
      "+------------------+---+------+------+\n",
      "|              name|age|gender|salary|\n",
      "+------------------+---+------+------+\n",
      "|     Mary Gonzalez| 24|Female| 44000|\n",
      "|        Jane Smith| 25|Female| 45000|\n",
      "|Jennifer Rodriguez| 26|Female| 47000|\n",
      "|       Lisa Garcia| 27|Female| 49000|\n",
      "|          John Doe| 30|  Male| 50000|\n",
      "|    Patricia White| 29|Female| 50000|\n",
      "|        Robert Lee| 29|  Male| 51000|\n",
      "|       Emily Davis| 28|Female| 52000|\n",
      "| Elizabeth Jackson| 30|Female| 52000|\n",
      "|     Joseph Harris| 28|  Male| 53000|\n",
      "|   Karen Hernandez| 31|Female| 55000|\n",
      "|       Sarah Brown| 32|Female| 58000|\n",
      "|     David Johnson| 35|  Male| 60000|\n",
      "|  William Anderson| 33|  Male| 62000|\n",
      "|     Daniel Miller| 34|  Male| 64000|\n",
      "|     Matthew Davis| 36|  Male| 67000|\n",
      "|Christopher Taylor| 37|  Male| 69000|\n",
      "|    James Martinez| 38|  Male| 70000|\n",
      "|      Linda Martin| 39|Female| 71000|\n",
      "|    Michael Wilson| 40|  Male| 75000|\n",
      "+------------------+---+------+------+\n",
      "\n"
     ]
    }
   ],
   "source": [
    "df.sort(df.salary).show()"
   ]
  },
  {
   "cell_type": "code",
   "execution_count": 0,
   "metadata": {
    "application/vnd.databricks.v1+cell": {
     "cellMetadata": {
      "byteLimit": 2048000,
      "rowLimit": 10000
     },
     "inputWidgets": {},
     "nuid": "f6bd3980-ec9f-4976-8e8e-75c876409e89",
     "showTitle": false,
     "title": ""
    }
   },
   "outputs": [
    {
     "name": "stdout",
     "output_type": "stream",
     "text": [
      "+------------------+---+------+------+\n",
      "|              name|age|gender|salary|\n",
      "+------------------+---+------+------+\n",
      "|    Michael Wilson| 40|  Male| 75000|\n",
      "|      Linda Martin| 39|Female| 71000|\n",
      "|    James Martinez| 38|  Male| 70000|\n",
      "|Christopher Taylor| 37|  Male| 69000|\n",
      "|     Matthew Davis| 36|  Male| 67000|\n",
      "|     Daniel Miller| 34|  Male| 64000|\n",
      "|  William Anderson| 33|  Male| 62000|\n",
      "|     David Johnson| 35|  Male| 60000|\n",
      "|       Sarah Brown| 32|Female| 58000|\n",
      "|   Karen Hernandez| 31|Female| 55000|\n",
      "|     Joseph Harris| 28|  Male| 53000|\n",
      "|       Emily Davis| 28|Female| 52000|\n",
      "| Elizabeth Jackson| 30|Female| 52000|\n",
      "|        Robert Lee| 29|  Male| 51000|\n",
      "|          John Doe| 30|  Male| 50000|\n",
      "|    Patricia White| 29|Female| 50000|\n",
      "|       Lisa Garcia| 27|Female| 49000|\n",
      "|Jennifer Rodriguez| 26|Female| 47000|\n",
      "|        Jane Smith| 25|Female| 45000|\n",
      "|     Mary Gonzalez| 24|Female| 44000|\n",
      "+------------------+---+------+------+\n",
      "\n"
     ]
    }
   ],
   "source": [
    "#Descending\n",
    "df.sort(df.salary.desc()).show()"
   ]
  },
  {
   "cell_type": "code",
   "execution_count": 0,
   "metadata": {
    "application/vnd.databricks.v1+cell": {
     "cellMetadata": {
      "byteLimit": 2048000,
      "rowLimit": 10000
     },
     "inputWidgets": {},
     "nuid": "afb81933-43f3-4514-81d2-9aeb151a9f18",
     "showTitle": true,
     "title": "Aggreation sum, avg, count, min, max groupBy"
    }
   },
   "outputs": [
    {
     "name": "stdout",
     "output_type": "stream",
     "text": [
      "+------+-----------+\n",
      "|gender|sum(salary)|\n",
      "+------+-----------+\n",
      "|Female|     523000|\n",
      "|  Male|     621000|\n",
      "+------+-----------+\n",
      "\n"
     ]
    }
   ],
   "source": [
    "df.groupBy('gender').sum('salary').show()"
   ]
  },
  {
   "cell_type": "code",
   "execution_count": 0,
   "metadata": {
    "application/vnd.databricks.v1+cell": {
     "cellMetadata": {
      "byteLimit": 2048000,
      "rowLimit": 10000
     },
     "inputWidgets": {},
     "nuid": "ee60af85-d054-4c76-aa3e-66994e863aba",
     "showTitle": false,
     "title": ""
    }
   },
   "outputs": [
    {
     "name": "stdout",
     "output_type": "stream",
     "text": [
      "+------+-----+\n",
      "|gender|count|\n",
      "+------+-----+\n",
      "|Female|   10|\n",
      "|  Male|   10|\n",
      "+------+-----+\n",
      "\n"
     ]
    }
   ],
   "source": [
    "df.groupBy('gender').count().show()"
   ]
  },
  {
   "cell_type": "code",
   "execution_count": 0,
   "metadata": {
    "application/vnd.databricks.v1+cell": {
     "cellMetadata": {
      "byteLimit": 2048000,
      "rowLimit": 10000
     },
     "inputWidgets": {},
     "nuid": "619833c3-b8ad-422b-adab-a79672d7d685",
     "showTitle": false,
     "title": ""
    }
   },
   "outputs": [
    {
     "name": "stdout",
     "output_type": "stream",
     "text": [
      "+------+-----------+\n",
      "|gender|min(salary)|\n",
      "+------+-----------+\n",
      "|Female|      44000|\n",
      "|  Male|      50000|\n",
      "+------+-----------+\n",
      "\n"
     ]
    }
   ],
   "source": [
    "df.groupBy('gender').min('salary').show()"
   ]
  },
  {
   "cell_type": "code",
   "execution_count": 0,
   "metadata": {
    "application/vnd.databricks.v1+cell": {
     "cellMetadata": {
      "byteLimit": 2048000,
      "rowLimit": 10000
     },
     "inputWidgets": {},
     "nuid": "3e3796b9-1b1c-4e84-9215-a1c24aa8a017",
     "showTitle": false,
     "title": ""
    }
   },
   "outputs": [
    {
     "name": "stdout",
     "output_type": "stream",
     "text": [
      "+------+-----------+\n",
      "|gender|max(salary)|\n",
      "+------+-----------+\n",
      "|Female|      71000|\n",
      "|  Male|      75000|\n",
      "+------+-----------+\n",
      "\n"
     ]
    }
   ],
   "source": [
    "df.groupBy('gender').max('salary').show()"
   ]
  },
  {
   "cell_type": "code",
   "execution_count": 0,
   "metadata": {
    "application/vnd.databricks.v1+cell": {
     "cellMetadata": {},
     "inputWidgets": {},
     "nuid": "da61fbd7-c00b-402c-968f-f0e092e001b2",
     "showTitle": true,
     "title": "Joins Syntax"
    }
   },
   "outputs": [],
   "source": [
    "df1.join(df2,df1.column1==df2=column2,\"inner\").show()\n",
    "#similar for outer,left,right"
   ]
  }
 ],
 "metadata": {
  "application/vnd.databricks.v1+notebook": {
   "dashboards": [],
   "language": "python",
   "notebookMetadata": {
    "pythonIndentUnit": 4
   },
   "notebookName": "Pyspark Basics part2 2024-04-07 17:15:05",
   "widgets": {}
  },
  "kernelspec": {
   "display_name": "Python 3 (ipykernel)",
   "language": "python",
   "name": "python3"
  },
  "language_info": {
   "codemirror_mode": {
    "name": "ipython",
    "version": 3
   },
   "file_extension": ".py",
   "mimetype": "text/x-python",
   "name": "python",
   "nbconvert_exporter": "python",
   "pygments_lexer": "ipython3",
   "version": "3.11.3"
  }
 },
 "nbformat": 4,
 "nbformat_minor": 1
}
